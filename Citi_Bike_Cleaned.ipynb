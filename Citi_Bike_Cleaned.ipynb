{
 "cells": [
  {
   "cell_type": "code",
   "execution_count": 61,
   "id": "8d5cd8b5",
   "metadata": {},
   "outputs": [],
   "source": [
    "import pandas as pd"
   ]
  },
  {
   "cell_type": "code",
   "execution_count": 68,
   "id": "ce2a7591",
   "metadata": {},
   "outputs": [],
   "source": [
    "# Load the data from the past year\n",
    "citi_bike_jan22 = pd.read_csv('Resources/JC-202201-citibike-tripdata.csv')\n",
    "citi_bike_feb22 = pd.read_csv('Resources/JC-202202-citibike-tripdata.csv')\n",
    "citi_bike_mar22 = pd.read_csv(\"Resources/JC-202203-citibike-tripdata.csv\")\n",
    "citi_bike_apr22 = pd.read_csv('Resources/JC-202204-citibike-tripdata.csv')\n",
    "citi_bike_may22 = pd.read_csv('Resources/JC-202205-citibike-tripdata.csv')\n",
    "citi_bike_jun22 = pd.read_csv('Resources/JC-202206-citibike-tripdata.csv')\n",
    "citi_bike_jul22 = pd.read_csv('Resources/JC-202207-citibike-tripdata.csv')\n",
    "citi_bike_aug22 = pd.read_csv('Resources/JC-202208-citibike-tripdata.csv')\n",
    "citi_bike_sep22 = pd.read_csv('Resources/JC-202209-citibike-tripdata.csv')\n",
    "citi_bike_oct22 = pd.read_csv('Resources/JC-202210-citibike-tripdata.csv')\n",
    "citi_bike_nov22 = pd.read_csv('Resources/JC-202211-citibike-tripdata.csv')\n",
    "citi_bike_dec22 = pd.read_csv('Resources/JC-202212-citibike-tripdata.csv')\n"
   ]
  },
  {
   "cell_type": "code",
   "execution_count": 69,
   "id": "488bb6b1",
   "metadata": {},
   "outputs": [
    {
     "data": {
      "text/plain": [
       "895485"
      ]
     },
     "execution_count": 69,
     "metadata": {},
     "output_type": "execute_result"
    }
   ],
   "source": [
    "# add all the number of rows for each dataframe\n",
    "total_rows = 0\n",
    "total_rows += citi_bike_mar22.shape[0]\n",
    "total_rows += citi_bike_feb22.shape[0]\n",
    "total_rows += citi_bike_jan22.shape[0]\n",
    "total_rows += citi_bike_dec22.shape[0]\n",
    "total_rows += citi_bike_nov22.shape[0]\n",
    "total_rows += citi_bike_oct22.shape[0]\n",
    "total_rows += citi_bike_sep22.shape[0]\n",
    "total_rows += citi_bike_aug22.shape[0]\n",
    "total_rows += citi_bike_jul22.shape[0]\n",
    "total_rows += citi_bike_jun22.shape[0]\n",
    "total_rows += citi_bike_may22.shape[0]\n",
    "total_rows += citi_bike_apr22.shape[0]\n",
    "\n",
    "total_rows"
   ]
  },
  {
   "cell_type": "code",
   "execution_count": 70,
   "id": "8208bdba",
   "metadata": {},
   "outputs": [],
   "source": [
    "citi_bike_2022 = [citi_bike_jan22, citi_bike_feb22,citi_bike_mar22,\n",
    "                       citi_bike_apr22, citi_bike_may22, citi_bike_jun22,\n",
    "                       citi_bike_jul22, citi_bike_aug22, citi_bike_sep22,\n",
    "                       citi_bike_oct22, citi_bike_nov22, citi_bike_dec22]"
   ]
  },
  {
   "cell_type": "code",
   "execution_count": 71,
   "id": "96ee787f",
   "metadata": {},
   "outputs": [
    {
     "data": {
      "text/plain": [
       "895485"
      ]
     },
     "execution_count": 71,
     "metadata": {},
     "output_type": "execute_result"
    }
   ],
   "source": [
    "# check that the number of rows is the same\n",
    "citi_bike_merged = pd.concat(citi_bike_2022, axis=0, ignore_index = True)\n",
    "citi_bike_merged.shape[0]"
   ]
  },
  {
   "cell_type": "code",
   "execution_count": 72,
   "id": "70ad1a83",
   "metadata": {},
   "outputs": [
    {
     "data": {
      "text/plain": [
       "ride_id               895485\n",
       "rideable_type         895485\n",
       "started_at            895485\n",
       "ended_at              895485\n",
       "start_station_name    895475\n",
       "start_station_id      895475\n",
       "end_station_name      892281\n",
       "end_station_id        892281\n",
       "start_lat             895485\n",
       "start_lng             895485\n",
       "end_lat               893515\n",
       "end_lng               893515\n",
       "member_casual         895485\n",
       "dtype: int64"
      ]
     },
     "execution_count": 72,
     "metadata": {},
     "output_type": "execute_result"
    }
   ],
   "source": [
    "# check for nul values\n",
    "citi_bike_merged.count()"
   ]
  },
  {
   "cell_type": "code",
   "execution_count": 73,
   "id": "bcbb702f",
   "metadata": {},
   "outputs": [
    {
     "data": {
      "text/plain": [
       "892281"
      ]
     },
     "execution_count": 73,
     "metadata": {},
     "output_type": "execute_result"
    }
   ],
   "source": [
    "# drop null values\n",
    "citi_bike_merged = citi_bike_merged.dropna()\n",
    "citi_bike_merged.shape[0]"
   ]
  },
  {
   "cell_type": "code",
   "execution_count": 74,
   "id": "26d3214b",
   "metadata": {},
   "outputs": [
    {
     "data": {
      "text/plain": [
       "ride_id                object\n",
       "rideable_type          object\n",
       "started_at             object\n",
       "ended_at               object\n",
       "start_station_name     object\n",
       "start_station_id       object\n",
       "end_station_name       object\n",
       "end_station_id         object\n",
       "start_lat             float64\n",
       "start_lng             float64\n",
       "end_lat               float64\n",
       "end_lng               float64\n",
       "member_casual          object\n",
       "dtype: object"
      ]
     },
     "execution_count": 74,
     "metadata": {},
     "output_type": "execute_result"
    }
   ],
   "source": [
    "# check the datatypes\n",
    "citi_bike_merged.dtypes"
   ]
  },
  {
   "cell_type": "code",
   "execution_count": 75,
   "id": "f89a3e74",
   "metadata": {},
   "outputs": [
    {
     "data": {
      "text/plain": [
       "array(['electric_bike', 'classic_bike', 'docked_bike'], dtype=object)"
      ]
     },
     "execution_count": 75,
     "metadata": {},
     "output_type": "execute_result"
    }
   ],
   "source": [
    "citi_bike_merged[\"rideable_type\"].unique()"
   ]
  },
  {
   "cell_type": "code",
   "execution_count": 76,
   "id": "e95d65f2",
   "metadata": {},
   "outputs": [
    {
     "data": {
      "text/plain": [
       "array(['12 St & Sinatra Dr N', 'Essex Light Rail', 'Christ Hospital',\n",
       "       'Grove St PATH', 'Willow Ave & 12 St', 'Grand St',\n",
       "       'Madison St & 1 St', 'Union St', 'Montgomery St', 'Hilltop',\n",
       "       'Pershing Field', 'Manila & 1st',\n",
       "       'City Hall - Washington St & 1 St', 'Riverview Park',\n",
       "       'Jersey & 6th St', 'Bergen Ave & Stegman St',\n",
       "       'Communipaw & Berry Lane', 'Paulus Hook',\n",
       "       '9 St HBLR - Jackson St & 8 St', 'Washington St',\n",
       "       'Liberty Light Rail', 'City Hall',\n",
       "       'Hoboken Terminal - River St & Hudson Pl', '5 Corners Library',\n",
       "       'Hoboken Terminal - Hudson St & Hudson Pl', 'Fairmount Ave',\n",
       "       'Jackson Square', 'Dey St', 'Warren St', 'Newport Pkwy',\n",
       "       'Clinton St & Newark St', 'Baldwin at Montgomery',\n",
       "       'Bloomfield St & 15 St', 'Clinton St & 7 St', 'Harborside',\n",
       "       'Brunswick & 6th', 'Hoboken Ave at Monmouth St', 'Oakland Ave',\n",
       "       'Columbus Dr at Exchange Pl', '7 St & Monroe St',\n",
       "       'JC Medical Center', 'Journal Square',\n",
       "       'Mama Johnson Field - 4 St & Jackson St', 'Marshall St & 2 St',\n",
       "       'Sip Ave', 'Southwest Park - Jackson St & Observer Hwy',\n",
       "       'Adams St & 11 St', '11 St & Washington St',\n",
       "       '8 St & Washington St', 'Dixon Mills', 'Grant Ave & MLK Dr',\n",
       "       'Hudson St & 4 St', 'Columbus Park - Clinton St & 9 St',\n",
       "       'Morris Canal', 'Church Sq Park - 5 St & Park Ave', 'Lincoln Park',\n",
       "       'Newark Ave', '6 St & Grand St', 'Heights Elevator',\n",
       "       'Monmouth and 6th', '4 St & Grand St', 'Lafayette Park',\n",
       "       'Marin Light Rail', 'Columbus Drive',\n",
       "       'South Waterfront Walkway - Sinatra Dr & 1 St', 'Astor Place',\n",
       "       'Adams St & 2 St', 'Brunswick St', 'Glenwood Ave', 'Hamilton Park',\n",
       "       '14 St Ferry - 14 St & Shipyard Ln', 'Stevens - River Ter & 6 St',\n",
       "       'Bergen Ave', 'Newport PATH', 'Grand St & 14 St',\n",
       "       'McGinley Square', 'Leonard Gordon Park', 'Jersey & 3rd',\n",
       "       'Madison St & 10 St', 'Van Vorst Park', 'JCBS Depot',\n",
       "       'Bergen Ave & Sip Ave', 'York St & Marin Blvd', 'MTL-ECO5-LAB'],\n",
       "      dtype=object)"
      ]
     },
     "execution_count": 76,
     "metadata": {},
     "output_type": "execute_result"
    }
   ],
   "source": [
    "citi_bike_merged[\"start_station_name\"].unique()"
   ]
  },
  {
   "cell_type": "code",
   "execution_count": 77,
   "id": "a518c0ac",
   "metadata": {},
   "outputs": [
    {
     "data": {
      "text/plain": [
       "array(['12 St & Sinatra Dr N', 'Essex Light Rail', 'Washington St',\n",
       "       'Pershing Field', '9 St HBLR - Jackson St & 8 St',\n",
       "       'Willow Ave & 12 St', 'Grove St PATH', 'Hilltop', 'Grand St',\n",
       "       'Madison St & 1 St', 'Montgomery St', 'Communipaw & Berry Lane',\n",
       "       'Christ Hospital', 'Jackson Square',\n",
       "       'City Hall - Washington St & 1 St', 'Manila & 1st',\n",
       "       'Riverview Park', 'W 27 St & 7 Ave',\n",
       "       'Hoboken Terminal - Hudson St & Hudson Pl', 'Jersey & 6th St',\n",
       "       'Hoboken Terminal - River St & Hudson Pl',\n",
       "       'Bergen Ave & Stegman St', 'Dey St',\n",
       "       'Columbus Park - Clinton St & 9 St', 'Union St', 'City Hall',\n",
       "       'Liberty Light Rail', 'Paulus Hook', 'Lincoln Park',\n",
       "       '5 Corners Library', 'Central Park S & 6 Ave', 'Fairmount Ave',\n",
       "       'Warren St', 'Newport Pkwy', 'Clinton St & Newark St',\n",
       "       'Bloomfield St & 15 St', 'Clinton St & 7 St',\n",
       "       'Baldwin at Montgomery', 'Harborside',\n",
       "       'Hoboken Ave at Monmouth St', 'Brunswick & 6th',\n",
       "       'Maiden Ln & Pearl St', 'Oakland Ave',\n",
       "       'Columbus Dr at Exchange Pl', '7 St & Monroe St',\n",
       "       'JC Medical Center', 'W 42 St & 6 Ave', 'Journal Square',\n",
       "       'Marshall St & 2 St', 'Mama Johnson Field - 4 St & Jackson St',\n",
       "       'Sip Ave', 'Cabrini Blvd & W 177 St',\n",
       "       'Southwest Park - Jackson St & Observer Hwy', 'Adams St & 11 St',\n",
       "       '11 St & Washington St', '8 St & Washington St', 'Dixon Mills',\n",
       "       'Grant Ave & MLK Dr',\n",
       "       'South Waterfront Walkway - Sinatra Dr & 1 St', 'Columbus Drive',\n",
       "       'Hudson St & 4 St', 'Church Sq Park - 5 St & Park Ave',\n",
       "       'Morris Canal', 'Cleveland Pl & Spring St', 'Brunswick St',\n",
       "       'Newark Ave', 'Monmouth and 6th', '6 St & Grand St',\n",
       "       'Heights Elevator', '4 St & Grand St', 'Lafayette Park',\n",
       "       'Marin Light Rail', 'Broadway & W 220 St', 'Glenwood Ave',\n",
       "       'Hamilton Park', 'Adams St & 2 St', 'Astor Place',\n",
       "       '14 St Ferry - 14 St & Shipyard Ln', '12 Ave & W 40 St',\n",
       "       'Newport PATH', 'Bergen Ave', 'Stevens - River Ter & 6 St',\n",
       "       'Broadway & W 36 St', 'Jersey & 3rd', 'Grand St & 14 St',\n",
       "       'Leonard Gordon Park', 'McGinley Square', 'Van Vorst Park',\n",
       "       'Madison St & 10 St', 'Vesey St & Church St', '11 Ave & W 59 St',\n",
       "       '6 Ave & Walker St', 'North Moore St & Greenwich St',\n",
       "       'E 5 St & Cooper Sq', 'W 37 St & Broadway',\n",
       "       'Bayard St & Baxter St', '6 Ave & W 34 St', 'West Thames St',\n",
       "       'Old Slip & South St', 'Liberty St & Nassau St', '8 Ave & W 33 St',\n",
       "       'Broadway & W 155 St', 'Bank St & Washington St',\n",
       "       'Riverside Dr & W 104 St', 'West St & Chambers St',\n",
       "       'Cedar Ave & W Fordham Rd', 'Water St & Gouverneur Ln',\n",
       "       'Great Jones St', 'Broadway & Morris St', 'Park Pl & Church St',\n",
       "       'Murray St & Greenwich St', 'Broadway & Battery Pl',\n",
       "       'E 47 St & Park Ave', 'Fulton St & William St',\n",
       "       'Murray St & West St', 'Broadway\\\\t& W 48 St', 'E 48 St & 5 Ave',\n",
       "       'W 20 St & 7 Ave', 'Christopher St & Greenwich St',\n",
       "       'W 30 St & 10 Ave', 'Greenwich St & Hubert St',\n",
       "       'Lafayette St & Jersey St', 'Hudson St & Reade St',\n",
       "       'Pearl St & Hanover Square', 'William St & Pine St',\n",
       "       'Broadway & W 29 St', 'E 5 St & Avenue C',\n",
       "       'Vesey Pl & River Terrace', 'S 4 St & Rodney St',\n",
       "       'Greene St & Prince St', '5 Ave & E 29 St',\n",
       "       'W Broadway & W Houston St', 'W 20 St & 8 Ave',\n",
       "       'Little West St & 1 Pl', 'JCBS Depot', 'W Broadway & Spring St',\n",
       "       'W 181 St & Riverside Dr', 'Pier 40 Dock Station',\n",
       "       'Washington St & Laight St', 'E 9 St & 5 Ave', 'W 44 St & 5 Ave',\n",
       "       'Broadway & W 58 St', 'Lafayette St & E 8 St',\n",
       "       'W 16 St & The High Line', '10 Ave & W 14 St',\n",
       "       'Pier 40 - Hudson River Park', 'E 30 St & Park Ave S',\n",
       "       '6 Ave & W 33 St', 'Carmine St & 6 Ave', '8 Ave & W 38 St',\n",
       "       'Hudson St & N Moore St', 'Kosciuszko St & Tompkins Ave',\n",
       "       'LaGuardia Pl & W 3 St', 'Myrtle Ave & St Edwards St',\n",
       "       'W 22 St & 10 Ave', 'E 2 St & Avenue A',\n",
       "       'Grand Army Plaza & Central Park S', '11 Ave & W 27 St',\n",
       "       '9 Ave & W 18 St', '8 Ave & W 49 St', 'Soissons Landing',\n",
       "       'E 50 St & Park Ave', 'Bleecker St & Crosby St',\n",
       "       'Stagg St & Morgan Ave', 'W 54 St & 11 Ave', 'E 58 St & 3 Ave',\n",
       "       'E 47 St & 2 Ave', 'Marcy Ave & Lafayette Ave', 'W 45 St & 8 Ave',\n",
       "       'Fulton St & Broadway', 'Central Park West & W 68 St',\n",
       "       '1 Ave & E 62 St', 'Pearl St & Peck Slip', '1 Ave & E 68 St',\n",
       "       'W 34 St & 11 Ave', 'W 34 St &\\\\tHudson Blvd E',\n",
       "       'Spruce St & Nassau St', 'W 168th S & Fort Washington Ave',\n",
       "       'Bank St & Hudson St', 'South St & Broad St',\n",
       "       'Commerce St & Van Brunt St', 'W 42 St & 8 Ave',\n",
       "       'Amsterdam Ave & W 79 St', 'Mercer St & Spring St',\n",
       "       'Bus Slip & State St', 'South St & Whitehall St',\n",
       "       'W 106 St & Central Park West', '6 Ave & Broome St',\n",
       "       'Forest Ave & Summerfield St', 'Warren St & W Broadway',\n",
       "       'South St & Gouverneur Ln', 'W 56 St & 8 Ave',\n",
       "       'Water St &  Fletcher St', 'River Ter & Warren St',\n",
       "       'Leonard St & Church St', 'MacDougal St & Washington Sq',\n",
       "       'Cliff St & Fulton St', 'Watts St & Greenwich St',\n",
       "       'John St & William St', 'West St & Liberty St',\n",
       "       'Broadway & E 19 St', 'Greenwich St & W Houston St',\n",
       "       'Barrow St & Hudson St', 'E 59 St & Madison Ave',\n",
       "       'Mott St & Prince St', 'Lexington Ave & E 24 St',\n",
       "       'W 47 St & 6 Ave', 'Fort Washington Ave & W 173 St',\n",
       "       '11 Ave & W 41 St', 'Broadway & W 53 St', 'Broadway & W 41 St',\n",
       "       'Bergen Ave & Sip Ave', '1 Ave & E 30 St', 'W 4 St & 7 Ave S',\n",
       "       'W 15 St & 10 Ave', 'E 31 St & 3 Ave', 'W 21 St & 6 Ave',\n",
       "       'Broadway & W 61 St', 'Market St & Cherry St',\n",
       "       'St Marks Pl & 2 Ave', 'Rivington St & Chrystie St',\n",
       "       'Cooper Square & Astor Pl', 'W 116 St & Broadway',\n",
       "       'University Pl & E 14 St', 'Greenwich Ave & Charles St',\n",
       "       'W 40 St & 7 Ave', 'W 48 St &  Rockefeller Plaza',\n",
       "       'King St & Varick St', 'University Pl & E 8 St',\n",
       "       'W 50 St & 10 Ave', 'Madison Av & E 51 St', 'E 118 St & 1 Ave',\n",
       "       'Plaza Dr & W 170 St', 'Broadway & E 21 St', 'W 51 St & 6 Ave',\n",
       "       'W 50 St & 9 Ave', 'Murray St\\\\t& West St',\n",
       "       'Adam Clayton Powell Blvd & W 132 St', 'W 41 St & 8 Ave',\n",
       "       'Riverside Dr & W 153 St', 'Madison Ave & E 82 St',\n",
       "       'E 2 St & 2 Ave', 'W 44 St & 11 Ave', 'Rogers Ave & Sterling St',\n",
       "       'Broad St & Bridge St', 'McKibbin St & Manhattan Ave',\n",
       "       'W 42 St & Dyer Ave', 'Madison Ave & E 26 St', 'W 37 St & 10 Ave',\n",
       "       'E 17 St & Broadway', 'E 20 St & Park Ave', 'W 17 St & 8 Ave',\n",
       "       'Edgecombe Ave & W 141 St', '10 Ave & W 28 St',\n",
       "       'Van Sinderen Ave & Truxton St', 'W 70 St & Amsterdam Ave',\n",
       "       'W 67 St & Broadway', 'Faile St & Garrison Ave',\n",
       "       'St. Nicholas Terrace & Convent Ave', 'Amsterdam Ave & W 82 St',\n",
       "       'Broadway & W 160 St', 'Suffolk St & Stanton St',\n",
       "       'Central Park North & Adam Clayton Powell Blvd',\n",
       "       'N Moore St & Hudson St', 'South St & Pike St',\n",
       "       'Vernon Blvd & 47 Rd', 'Hudson St & W 13 St',\n",
       "       'W 10 St & Washington St', 'Albany St & Greenwich St', 'York St',\n",
       "       'E 11 St & 1 Ave', 'York St & Marin Blvd', '5 Ave & E 63 St',\n",
       "       'St James Pl & Oliver St', 'Franklin St & W Broadway',\n",
       "       '8 Ave & W 16 St', 'Lispenard St & Broadway', 'Shop Morgan',\n",
       "       'E 51 St & 2 Ave', 'Park Ave & St Edwards St', 'W 59 St & 10 Ave',\n",
       "       'Riverside Dr & W 72 St', 'W 104 St & Amsterdam Ave',\n",
       "       'Columbus Ave & W 95 St', 'W 116 St & Amsterdam Ave',\n",
       "       'W 180 St & Ft Washington Ave', '2 Ave & E 72 St',\n",
       "       'W 52 St & 6 Ave', 'Laight St & Hudson St',\n",
       "       'Spring St & Hudson St', 'Franklin St & Dupont St',\n",
       "       'W 33 St & 10 Ave', 'Mercer St & Bleecker St',\n",
       "       'Pleasant Ave & E 116 St', 'MTL-ECO5-LAB', 'Court St & State St',\n",
       "       'E 4 St & 2 Ave', 'Centre St & Worth St',\n",
       "       'Sullivan St & Washington Sq', 'Ave A & E 11 St',\n",
       "       '6 Ave & W 45 St', 'W 35 St & 8 Ave', 'W 34 St & Hudson Blvd E',\n",
       "       'W 40 St & 5 Ave', 'W 56 St & 10 Ave', 'E 13 St & 2 Ave',\n",
       "       'E 7 St & Avenue A', 'W 56 St & 6 Ave', 'Liberty St & Broadway',\n",
       "       'Duane St & Hudson St', 'West End Ave & W 107 St',\n",
       "       'W 100 St & Manhattan Ave', 'Broadway & W 48 St',\n",
       "       'W 20 St & 10 Ave', 'Broadway & W 51 St',\n",
       "       'Morton St & Washington St', 'E 39 St & Lexington Ave',\n",
       "       'Grove St - PATH', 'W 84 St & Broadway', 'E 22 St & 2 Ave'],\n",
       "      dtype=object)"
      ]
     },
     "execution_count": 77,
     "metadata": {},
     "output_type": "execute_result"
    }
   ],
   "source": [
    "citi_bike_merged[\"end_station_name\"].unique()"
   ]
  },
  {
   "cell_type": "code",
   "execution_count": 78,
   "id": "81d1379f",
   "metadata": {},
   "outputs": [
    {
     "data": {
      "text/plain": [
       "array(['member', 'casual'], dtype=object)"
      ]
     },
     "execution_count": 78,
     "metadata": {},
     "output_type": "execute_result"
    }
   ],
   "source": [
    "citi_bike_merged[\"member_casual\"].unique()"
   ]
  },
  {
   "cell_type": "code",
   "execution_count": 79,
   "id": "2a35e56d",
   "metadata": {},
   "outputs": [],
   "source": [
    "citi_bike_merged.to_csv(\"Resources/citi_bike_merged.csv\", index = False)"
   ]
  },
  {
   "cell_type": "code",
   "execution_count": null,
   "id": "23a3b302",
   "metadata": {},
   "outputs": [],
   "source": []
  },
  {
   "cell_type": "code",
   "execution_count": null,
   "id": "22bb5f4a",
   "metadata": {},
   "outputs": [],
   "source": []
  },
  {
   "cell_type": "code",
   "execution_count": null,
   "id": "08506725",
   "metadata": {},
   "outputs": [],
   "source": []
  }
 ],
 "metadata": {
  "kernelspec": {
   "display_name": "PythonData",
   "language": "python",
   "name": "pythondata"
  },
  "language_info": {
   "codemirror_mode": {
    "name": "ipython",
    "version": 3
   },
   "file_extension": ".py",
   "mimetype": "text/x-python",
   "name": "python",
   "nbconvert_exporter": "python",
   "pygments_lexer": "ipython3",
   "version": "3.9.13"
  }
 },
 "nbformat": 4,
 "nbformat_minor": 5
}
